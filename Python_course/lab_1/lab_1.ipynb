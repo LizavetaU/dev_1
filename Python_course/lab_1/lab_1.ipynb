{
 "cells": [
  {
   "cell_type": "markdown",
   "id": "4b4d10d7",
   "metadata": {},
   "source": [
    "Задание 1.1: Калькулятор оценок\n",
    "Напишите программу, которая принимает числовую оценку (0-100) и выводит соответствующую буквенную оценку:\n",
    "- 90-100: A\n",
    "- 80-89: B  \n",
    "- 70-79: C\n",
    "- 60-69: D\n",
    "- 0-59: F\n",
    "\n",
    "Используйте как обычные if-elif-else конструкции, так и match-case."
   ]
  },
  {
   "cell_type": "code",
   "execution_count": null,
   "id": "9b644724",
   "metadata": {},
   "outputs": [],
   "source": [
    "def fi(a):\n",
    "     assert type(a) is int, f\"Incorrect input value {a} of type {type(a)}\"\n",
    "     assert 0 <= a <= 100, \"Internal error: variable out of range\"\n",
    "\n",
    "     if 1 <= a <= 59:\n",
    "         return \"F\"\n",
    "     elif 60 <= a <= 69:\n",
    "         return \"D\"\n",
    "     elif 70 <= a <= 79:\n",
    "         return \"C\"\n",
    "     elif 80 <= a <= 89:\n",
    "         return \"B\"\n",
    "     elif 90 <= a <= 100:\n",
    "         return \"A\"\n",
    "     \n",
    "\n",
    "try:\n",
    "    a = int(input(\"Enter your score (0-100): \"))\n",
    "\n",
    "    value = fi(a)\n",
    "    print(f\"Your grade is: {value}\")\n",
    "\n",
    "except ValueError as e:\n",
    "    print(f\"Error: {e}\")\n",
    "except AssertionError:\n",
    "    print(\"Internal program error\")  \n",
    "except Exception as e:\n",
    "    print(f\"Unexpected error: {e}\")\n"
   ]
  },
  {
   "cell_type": "markdown",
   "id": "0c2a709f",
   "metadata": {},
   "source": [
    "Задание 1.2: Проверка года на високосность\n",
    "Создайте функцию, которая определяет, является ли год високосным. Год високосный, если:\n",
    "- Он делится на 4, но не на 100, ИЛИ\n",
    "- Он делится на 400"
   ]
  },
  {
   "cell_type": "code",
   "execution_count": 4,
   "id": "7885709a",
   "metadata": {},
   "outputs": [
    {
     "name": "stdout",
     "output_type": "stream",
     "text": [
      "Year is leap year\n"
     ]
    }
   ],
   "source": [
    "def leap_year(year):\n",
    "    if (year % 4 == 0 and year % 100 != 0) or year % 400 == 0:\n",
    "        return \"Year is leap year\"\n",
    "    else:\n",
    "        return \"Year is not leap year\"\n",
    "\n",
    "\n",
    "a = leap_year(int(input(\"Enter year: \")))       \n",
    "print(a)"
   ]
  },
  {
   "cell_type": "markdown",
   "id": "31698b87",
   "metadata": {},
   "source": [
    "### Задание 1.3: Классификация треугольников\n",
    "Напишите программу, которая по трем сторонам треугольника определяет его тип:\n",
    "- Равносторонний (все стороны равны)\n",
    "- Равнобедренный (две стороны равны)\n",
    "- Разносторонний (все стороны разные)\n",
    "- Не является треугольником (сумма двух сторон меньше третьей)"
   ]
  },
  {
   "cell_type": "code",
   "execution_count": 12,
   "id": "b04d8dd7",
   "metadata": {},
   "outputs": [
    {
     "name": "stdout",
     "output_type": "stream",
     "text": [
      "Triangle is equilateral\n"
     ]
    }
   ],
   "source": [
    "def triangle(a, b, c):\n",
    "    if a + b <= c or a + c <= b or b + c <= a:\n",
    "        return \"The figure is not a triangle\"\n",
    "    elif a == b == c:\n",
    "        return \"Triangle is equilateral\"\n",
    "    elif a == b or a == c or b == c:\n",
    "         return \"Triangle is isosceles\"\n",
    "    else :\n",
    "        return \"Triangle is versatile\"\n",
    "    \n",
    "a = triangle(int(input(\"Enter a: \")), int(input(\"Enter b: \")), int(input(\"Enter c : \")))       \n",
    "print(a)\n",
    "    \n",
    "    "
   ]
  },
  {
   "cell_type": "markdown",
   "id": "0ad30256",
   "metadata": {},
   "source": [
    "### Задание 2.1: Таблица умножения\n",
    "Создайте программу, которая выводит таблицу умножения от 1 до 10. Используйте вложенные циклы for.\n"
   ]
  },
  {
   "cell_type": "code",
   "execution_count": 20,
   "id": "2dcd3bf3",
   "metadata": {},
   "outputs": [
    {
     "name": "stdout",
     "output_type": "stream",
     "text": [
      "multiplication 0 and 0 = 0\n",
      "multiplication 0 and 1 = 0\n",
      "multiplication 0 and 2 = 0\n",
      "multiplication 0 and 3 = 0\n",
      "multiplication 0 and 4 = 0\n",
      "multiplication 0 and 5 = 0\n",
      "multiplication 0 and 6 = 0\n",
      "multiplication 0 and 7 = 0\n",
      "multiplication 0 and 8 = 0\n",
      "multiplication 0 and 9 = 0\n",
      "multiplication 0 and 10 = 0\n",
      "multiplication 1 and 0 = 0\n",
      "multiplication 1 and 1 = 1\n",
      "multiplication 1 and 2 = 2\n",
      "multiplication 1 and 3 = 3\n",
      "multiplication 1 and 4 = 4\n",
      "multiplication 1 and 5 = 5\n",
      "multiplication 1 and 6 = 6\n",
      "multiplication 1 and 7 = 7\n",
      "multiplication 1 and 8 = 8\n",
      "multiplication 1 and 9 = 9\n",
      "multiplication 1 and 10 = 10\n",
      "multiplication 2 and 0 = 0\n",
      "multiplication 2 and 1 = 2\n",
      "multiplication 2 and 2 = 4\n",
      "multiplication 2 and 3 = 6\n",
      "multiplication 2 and 4 = 8\n",
      "multiplication 2 and 5 = 10\n",
      "multiplication 2 and 6 = 12\n",
      "multiplication 2 and 7 = 14\n",
      "multiplication 2 and 8 = 16\n",
      "multiplication 2 and 9 = 18\n",
      "multiplication 2 and 10 = 20\n",
      "multiplication 3 and 0 = 0\n",
      "multiplication 3 and 1 = 3\n",
      "multiplication 3 and 2 = 6\n",
      "multiplication 3 and 3 = 9\n",
      "multiplication 3 and 4 = 12\n",
      "multiplication 3 and 5 = 15\n",
      "multiplication 3 and 6 = 18\n",
      "multiplication 3 and 7 = 21\n",
      "multiplication 3 and 8 = 24\n",
      "multiplication 3 and 9 = 27\n",
      "multiplication 3 and 10 = 30\n",
      "multiplication 4 and 0 = 0\n",
      "multiplication 4 and 1 = 4\n",
      "multiplication 4 and 2 = 8\n",
      "multiplication 4 and 3 = 12\n",
      "multiplication 4 and 4 = 16\n",
      "multiplication 4 and 5 = 20\n",
      "multiplication 4 and 6 = 24\n",
      "multiplication 4 and 7 = 28\n",
      "multiplication 4 and 8 = 32\n",
      "multiplication 4 and 9 = 36\n",
      "multiplication 4 and 10 = 40\n",
      "multiplication 5 and 0 = 0\n",
      "multiplication 5 and 1 = 5\n",
      "multiplication 5 and 2 = 10\n",
      "multiplication 5 and 3 = 15\n",
      "multiplication 5 and 4 = 20\n",
      "multiplication 5 and 5 = 25\n",
      "multiplication 5 and 6 = 30\n",
      "multiplication 5 and 7 = 35\n",
      "multiplication 5 and 8 = 40\n",
      "multiplication 5 and 9 = 45\n",
      "multiplication 5 and 10 = 50\n",
      "multiplication 6 and 0 = 0\n",
      "multiplication 6 and 1 = 6\n",
      "multiplication 6 and 2 = 12\n",
      "multiplication 6 and 3 = 18\n",
      "multiplication 6 and 4 = 24\n",
      "multiplication 6 and 5 = 30\n",
      "multiplication 6 and 6 = 36\n",
      "multiplication 6 and 7 = 42\n",
      "multiplication 6 and 8 = 48\n",
      "multiplication 6 and 9 = 54\n",
      "multiplication 6 and 10 = 60\n",
      "multiplication 7 and 0 = 0\n",
      "multiplication 7 and 1 = 7\n",
      "multiplication 7 and 2 = 14\n",
      "multiplication 7 and 3 = 21\n",
      "multiplication 7 and 4 = 28\n",
      "multiplication 7 and 5 = 35\n",
      "multiplication 7 and 6 = 42\n",
      "multiplication 7 and 7 = 49\n",
      "multiplication 7 and 8 = 56\n",
      "multiplication 7 and 9 = 63\n",
      "multiplication 7 and 10 = 70\n",
      "multiplication 8 and 0 = 0\n",
      "multiplication 8 and 1 = 8\n",
      "multiplication 8 and 2 = 16\n",
      "multiplication 8 and 3 = 24\n",
      "multiplication 8 and 4 = 32\n",
      "multiplication 8 and 5 = 40\n",
      "multiplication 8 and 6 = 48\n",
      "multiplication 8 and 7 = 56\n",
      "multiplication 8 and 8 = 64\n",
      "multiplication 8 and 9 = 72\n",
      "multiplication 8 and 10 = 80\n",
      "multiplication 9 and 0 = 0\n",
      "multiplication 9 and 1 = 9\n",
      "multiplication 9 and 2 = 18\n",
      "multiplication 9 and 3 = 27\n",
      "multiplication 9 and 4 = 36\n",
      "multiplication 9 and 5 = 45\n",
      "multiplication 9 and 6 = 54\n",
      "multiplication 9 and 7 = 63\n",
      "multiplication 9 and 8 = 72\n",
      "multiplication 9 and 9 = 81\n",
      "multiplication 9 and 10 = 90\n",
      "multiplication 10 and 0 = 0\n",
      "multiplication 10 and 1 = 10\n",
      "multiplication 10 and 2 = 20\n",
      "multiplication 10 and 3 = 30\n",
      "multiplication 10 and 4 = 40\n",
      "multiplication 10 and 5 = 50\n",
      "multiplication 10 and 6 = 60\n",
      "multiplication 10 and 7 = 70\n",
      "multiplication 10 and 8 = 80\n",
      "multiplication 10 and 9 = 90\n",
      "multiplication 10 and 10 = 100\n"
     ]
    }
   ],
   "source": [
    "for i in range(0, 11):\n",
    "    for j in range(0, 11):\n",
    "        multi = i*j\n",
    "        print(f\"multiplication {i} and {j} = {multi}\")\n"
   ]
  },
  {
   "cell_type": "markdown",
   "id": "7ad02c67",
   "metadata": {},
   "source": [
    "### Задание 2.2: Поиск простых чисел\n",
    "Напишите функцию, которая находит все простые числа от 2 до заданного числа n. Используйте цикл for и проверку делимости."
   ]
  },
  {
   "cell_type": "code",
   "execution_count": 2,
   "id": "5685f125",
   "metadata": {},
   "outputs": [
    {
     "name": "stdout",
     "output_type": "stream",
     "text": [
      "[2, 3, 5, 7, 11, 13]\n"
     ]
    }
   ],
   "source": [
    "def prime_numbers(n):\n",
    "        \n",
    "    if n < 2:\n",
    "        return []\n",
    "    \n",
    "    primes = []\n",
    "\n",
    "    for num in range(2, n + 1):            \n",
    "            for i in range(2, int(num**0.5) + 1):\n",
    "                if num % i == 0:\n",
    "                    break\n",
    "            \n",
    "            else:\n",
    "                primes.append(num)\n",
    "        \n",
    "    return primes\n",
    "\n",
    "a = int(input(\"Enter prime numbers: \"))\n",
    "print( prime_numbers(a))\n"
   ]
  },
  {
   "cell_type": "markdown",
   "id": "e8ef9553",
   "metadata": {},
   "source": [
    "### Задание 2.3: Игра \"Угадай число\"\n",
    "Создайте игру, где компьютер загадывает случайное число от 1 до 100, а пользователь пытается его угадать. Программа должна:\n",
    "- Генерировать случайное число\n",
    "- Принимать ввод от пользователя\n",
    "- Давать подсказки \"больше\" или \"меньше\"\n",
    "- Считать количество попыток\n",
    "- Использовать цикл while"
   ]
  },
  {
   "cell_type": "code",
   "execution_count": null,
   "id": "5d232380",
   "metadata": {},
   "outputs": [
    {
     "name": "stdout",
     "output_type": "stream",
     "text": [
      "More\n",
      "More\n",
      "More\n",
      "More\n",
      "More\n",
      "Right! Number: 95\n",
      "Attempts: 6\n",
      "95\n"
     ]
    }
   ],
   "source": [
    "import random\n",
    "\n",
    "secret = random.randint(1, 100)\n",
    "attempts = 0\n",
    "\n",
    "while True:\n",
    "    value = int(input(\"Enter number: \"))\n",
    "    attempts += 1\n",
    "\n",
    "    if secret == value:\n",
    "        print(f\"Right! Number: {secret}\")\n",
    "        print(f\"Attempts: {attempts}\")\n",
    "        break\n",
    "    elif secret < value:\n",
    "        print(\"Less\")\n",
    "    else:\n",
    "        print(\"More\")\n",
    "    \n",
    "print(value)\n",
    "\n"
   ]
  },
  {
   "cell_type": "markdown",
   "id": "7f72e0cc",
   "metadata": {},
   "source": [
    "### Задание 2.4: Анализ текста\n",
    "Напишите программу, которая анализирует текст и выводит:\n",
    "- Количество символов\n",
    "- Количество слов\n",
    "- Количество предложений\n",
    "- Самые частые слова (топ-5)\n",
    "\n",
    "Используйте циклы for для обработки текста."
   ]
  },
  {
   "cell_type": "code",
   "execution_count": null,
   "id": "ff80ada1",
   "metadata": {},
   "outputs": [],
   "source": [
    "\n",
    "text = input(\"Enter text: \")\n",
    "\n",
    "char_count = len(text)\n",
    "\n",
    "words = text.split()\n",
    "word_count = len(words)\n",
    "\n",
    "sentence_count = 0\n",
    "for char in text:\n",
    "    if char in '.!?':\n",
    "        sentence_count += 1\n",
    "\n",
    "word_freq = {}\n",
    "for word in words:\n",
    "    word = word.lower().strip('.,!?;:')\n",
    "    if word:\n",
    "        word_freq[word] = word_freq.get(word, 0) + 1\n",
    "\n",
    "\n",
    "top_words = sorted(word_freq.items(), key=lambda x: x[1], reverse=True)[:5]\n",
    "\n",
    "print(f\"Characters: {char_count}\")\n",
    "print(f\"Words: {word_count}\")\n",
    "print(f\"Sentences: {sentence_count}\")\n",
    "print(\"Top 5 words:\")\n",
    "for word, count in top_words:\n",
    "    print(f\"  {word}: {count}\")\n"
   ]
  },
  {
   "cell_type": "markdown",
   "id": "bb2da6ec",
   "metadata": {},
   "source": [
    "### Задание 3.1: Безопасный калькулятор\n",
    "Создайте калькулятор, который безопасно выполняет арифметические операции:\n",
    "- Принимает два числа и операцию (+, -, *, /)\n",
    "- Обрабатывает деление на ноль\n",
    "- Обрабатывает неверный ввод (не числа)\n",
    "- Обрабатывает неверные операции\n",
    "- Использует try-except-finally блоки"
   ]
  },
  {
   "cell_type": "code",
   "execution_count": null,
   "id": "32e1c8b8",
   "metadata": {},
   "outputs": [],
   "source": [
    "try:\n",
    "\n",
    "    num1 = float(input(\"Enter first number: \"))\n",
    "    operation = input(\"Enter operation (+, -, *, /): \")\n",
    "    num2 = float(input(\"Enter second number: \"))\n",
    "    \n",
    "    if operation == '+':\n",
    "        result = num1 + num2\n",
    "    elif operation == '-':\n",
    "        result = num1 - num2\n",
    "    elif operation == '*':\n",
    "        result = num1 * num2\n",
    "    elif operation == '/':\n",
    "        if num2 == 0:\n",
    "            raise ZeroDivisionError(\"Cannot divide by zero!\")\n",
    "        result = num1 / num2\n",
    "    else:\n",
    "        raise ValueError(\"Invalid operation!\")\n",
    "    \n",
    " \n",
    "    print(f\"Result: {result}\")\n",
    "\n",
    "except ValueError as e:\n",
    "    print(f\"Error: {e}\")\n",
    "    print(\"Please enter valid numbers and operations!\")\n",
    "\n",
    "except ZeroDivisionError as e:\n",
    "    print(f\"Error: {e}\")\n",
    "\n",
    "except Exception as e:\n",
    "    print(f\"Unexpected error: {e}\")\n",
    "\n",
    "finally:\n",
    "    print(\"Calculation completed.\")"
   ]
  },
  {
   "cell_type": "markdown",
   "id": "873bf867",
   "metadata": {},
   "source": [
    "3.2, 3.3 из standart 1, 2, 3  \n",
    "\n",
    "\n",
    "### Задание 3.2: Чтение файла с обработкой ошибок\n",
    "Напишите функцию, которая:\n",
    "- Пытается прочитать файл\n",
    "- Обрабатывает FileNotFoundError\n",
    "- Обрабатывает PermissionError\n",
    "- Обрабатывает UnicodeDecodeError\n",
    "- Всегда выводит сообщение о завершении операции (finally)"
   ]
  },
  {
   "cell_type": "code",
   "execution_count": 9,
   "id": "592b53b1",
   "metadata": {},
   "outputs": [
    {
     "name": "stdout",
     "output_type": "stream",
     "text": [
      "right\n"
     ]
    }
   ],
   "source": [
    "\n",
    "try:\n",
    "    file = open('file.txt', 'r')\n",
    "    file.read()\n",
    "    print('right')\n",
    "\n",
    "except FileNotFoundError:\n",
    "    print(\"File is not find\")\n",
    "\n",
    "except PermissionError:\n",
    "    print(\"You don't have access\")\n",
    "\n",
    "except UnicodeDecodeError:\n",
    "    print(\"This file has a different encoding\")\n",
    "\n",
    "finally:\n",
    "    file.close()\n",
    "\n"
   ]
  },
  {
   "cell_type": "markdown",
   "id": "9c25009f",
   "metadata": {},
   "source": [
    "### Задание 3.3: Кастомные исключения\n",
    "Создайте систему кастомных исключений для банковского приложения:\n",
    "- InsufficientFundsError (недостаточно средств)\n",
    "- InvalidAccountError (неверный номер счета)\n",
    "- TransactionLimitError (превышен лимит транзакций)\n",
    "- Реализуйте класс BankAccount с методами deposit, withdraw, transfer\n",
    "- Используйте ваши кастомные исключения"
   ]
  },
  {
   "cell_type": "code",
   "execution_count": null,
   "id": "da0a92b3",
   "metadata": {},
   "outputs": [],
   "source": []
  }
 ],
 "metadata": {
  "kernelspec": {
   "display_name": "base",
   "language": "python",
   "name": "python3"
  },
  "language_info": {
   "codemirror_mode": {
    "name": "ipython",
    "version": 3
   },
   "file_extension": ".py",
   "mimetype": "text/x-python",
   "name": "python",
   "nbconvert_exporter": "python",
   "pygments_lexer": "ipython3",
   "version": "3.12.4"
  }
 },
 "nbformat": 4,
 "nbformat_minor": 5
}
