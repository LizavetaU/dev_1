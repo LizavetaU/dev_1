{
 "cells": [
  {
   "cell_type": "markdown",
   "id": "4b4d10d7",
   "metadata": {},
   "source": [
    "Задание 1.1: Калькулятор оценок\n",
    "Напишите программу, которая принимает числовую оценку (0-100) и выводит соответствующую буквенную оценку:\n",
    "- 90-100: A\n",
    "- 80-89: B  \n",
    "- 70-79: C\n",
    "- 60-69: D\n",
    "- 0-59: F\n",
    "\n",
    "Используйте как обычные if-elif-else конструкции, так и match-case."
   ]
  },
  {
   "cell_type": "code",
   "execution_count": null,
   "id": "9b644724",
   "metadata": {},
   "outputs": [],
   "source": [
    "def fi(a):\n",
    "     assert type(a) is int, f\"Incorrect input value {a} of type {type(a)}\"\n",
    "     assert 0 <= a <= 100, \"Internal error: variable out of range\"\n",
    "\n",
    "     if 1 <= a <= 59:\n",
    "         return \"F\"\n",
    "     elif 60 <= a <= 69:\n",
    "         return \"D\"\n",
    "     elif 70 <= a <= 79:\n",
    "         return \"C\"\n",
    "     elif 80 <= a <= 89:\n",
    "         return \"B\"\n",
    "     elif 90 <= a <= 100:\n",
    "         return \"A\"\n",
    "     \n",
    "\n",
    "try:\n",
    "    a = int(input(\"Enter your score (0-100): \"))\n",
    "\n",
    "    value = fi(a)\n",
    "    print(f\"Your grade is: {value}\")\n",
    "\n",
    "except ValueError as e:\n",
    "    print(f\"Error: {e}\")\n",
    "except AssertionError:\n",
    "    print(\"Internal program error\")  \n",
    "except Exception as e:\n",
    "    print(f\"Unexpected error: {e}\")\n"
   ]
  },
  {
   "cell_type": "markdown",
   "id": "0c2a709f",
   "metadata": {},
   "source": [
    "Задание 1.2: Проверка года на високосность\n",
    "Создайте функцию, которая определяет, является ли год високосным. Год високосный, если:\n",
    "- Он делится на 4, но не на 100, ИЛИ\n",
    "- Он делится на 400"
   ]
  },
  {
   "cell_type": "code",
   "execution_count": 4,
   "id": "7885709a",
   "metadata": {},
   "outputs": [
    {
     "name": "stdout",
     "output_type": "stream",
     "text": [
      "Year is leap year\n"
     ]
    }
   ],
   "source": [
    "def leap_year(year):\n",
    "    if (year % 4 == 0 and year % 100 != 0) or year % 400 == 0:\n",
    "        return \"Year is leap year\"\n",
    "    else:\n",
    "        return \"Year is not leap year\"\n",
    "\n",
    "\n",
    "a = leap_year(int(input(\"Enter year: \")))       \n",
    "print(a)"
   ]
  },
  {
   "cell_type": "markdown",
   "id": "31698b87",
   "metadata": {},
   "source": [
    "### Задание 1.3: Классификация треугольников\n",
    "Напишите программу, которая по трем сторонам треугольника определяет его тип:\n",
    "- Равносторонний (все стороны равны)\n",
    "- Равнобедренный (две стороны равны)\n",
    "- Разносторонний (все стороны разные)\n",
    "- Не является треугольником (сумма двух сторон меньше третьей)"
   ]
  },
  {
   "cell_type": "code",
   "execution_count": 12,
   "id": "b04d8dd7",
   "metadata": {},
   "outputs": [
    {
     "name": "stdout",
     "output_type": "stream",
     "text": [
      "Triangle is equilateral\n"
     ]
    }
   ],
   "source": [
    "def triangle(a, b, c):\n",
    "    if a + b <= c or a + c <= b or b + c <= a:\n",
    "        return \"The figure is not a triangle\"\n",
    "    elif a == b == c:\n",
    "        return \"Triangle is equilateral\"\n",
    "    elif a == b or a == c or b == c:\n",
    "         return \"Triangle is isosceles\"\n",
    "    else :\n",
    "        return \"Triangle is versatile\"\n",
    "    \n",
    "a = triangle(int(input(\"Enter a: \")), int(input(\"Enter b: \")), int(input(\"Enter c : \")))       \n",
    "print(a)\n",
    "    \n",
    "    "
   ]
  },
  {
   "cell_type": "markdown",
   "id": "0ad30256",
   "metadata": {},
   "source": [
    "### Задание 2.1: Таблица умножения\n",
    "Создайте программу, которая выводит таблицу умножения от 1 до 10. Используйте вложенные циклы for.\n"
   ]
  },
  {
   "cell_type": "code",
   "execution_count": 20,
   "id": "2dcd3bf3",
   "metadata": {},
   "outputs": [
    {
     "name": "stdout",
     "output_type": "stream",
     "text": [
      "multiplication 0 and 0 = 0\n",
      "multiplication 0 and 1 = 0\n",
      "multiplication 0 and 2 = 0\n",
      "multiplication 0 and 3 = 0\n",
      "multiplication 0 and 4 = 0\n",
      "multiplication 0 and 5 = 0\n",
      "multiplication 0 and 6 = 0\n",
      "multiplication 0 and 7 = 0\n",
      "multiplication 0 and 8 = 0\n",
      "multiplication 0 and 9 = 0\n",
      "multiplication 0 and 10 = 0\n",
      "multiplication 1 and 0 = 0\n",
      "multiplication 1 and 1 = 1\n",
      "multiplication 1 and 2 = 2\n",
      "multiplication 1 and 3 = 3\n",
      "multiplication 1 and 4 = 4\n",
      "multiplication 1 and 5 = 5\n",
      "multiplication 1 and 6 = 6\n",
      "multiplication 1 and 7 = 7\n",
      "multiplication 1 and 8 = 8\n",
      "multiplication 1 and 9 = 9\n",
      "multiplication 1 and 10 = 10\n",
      "multiplication 2 and 0 = 0\n",
      "multiplication 2 and 1 = 2\n",
      "multiplication 2 and 2 = 4\n",
      "multiplication 2 and 3 = 6\n",
      "multiplication 2 and 4 = 8\n",
      "multiplication 2 and 5 = 10\n",
      "multiplication 2 and 6 = 12\n",
      "multiplication 2 and 7 = 14\n",
      "multiplication 2 and 8 = 16\n",
      "multiplication 2 and 9 = 18\n",
      "multiplication 2 and 10 = 20\n",
      "multiplication 3 and 0 = 0\n",
      "multiplication 3 and 1 = 3\n",
      "multiplication 3 and 2 = 6\n",
      "multiplication 3 and 3 = 9\n",
      "multiplication 3 and 4 = 12\n",
      "multiplication 3 and 5 = 15\n",
      "multiplication 3 and 6 = 18\n",
      "multiplication 3 and 7 = 21\n",
      "multiplication 3 and 8 = 24\n",
      "multiplication 3 and 9 = 27\n",
      "multiplication 3 and 10 = 30\n",
      "multiplication 4 and 0 = 0\n",
      "multiplication 4 and 1 = 4\n",
      "multiplication 4 and 2 = 8\n",
      "multiplication 4 and 3 = 12\n",
      "multiplication 4 and 4 = 16\n",
      "multiplication 4 and 5 = 20\n",
      "multiplication 4 and 6 = 24\n",
      "multiplication 4 and 7 = 28\n",
      "multiplication 4 and 8 = 32\n",
      "multiplication 4 and 9 = 36\n",
      "multiplication 4 and 10 = 40\n",
      "multiplication 5 and 0 = 0\n",
      "multiplication 5 and 1 = 5\n",
      "multiplication 5 and 2 = 10\n",
      "multiplication 5 and 3 = 15\n",
      "multiplication 5 and 4 = 20\n",
      "multiplication 5 and 5 = 25\n",
      "multiplication 5 and 6 = 30\n",
      "multiplication 5 and 7 = 35\n",
      "multiplication 5 and 8 = 40\n",
      "multiplication 5 and 9 = 45\n",
      "multiplication 5 and 10 = 50\n",
      "multiplication 6 and 0 = 0\n",
      "multiplication 6 and 1 = 6\n",
      "multiplication 6 and 2 = 12\n",
      "multiplication 6 and 3 = 18\n",
      "multiplication 6 and 4 = 24\n",
      "multiplication 6 and 5 = 30\n",
      "multiplication 6 and 6 = 36\n",
      "multiplication 6 and 7 = 42\n",
      "multiplication 6 and 8 = 48\n",
      "multiplication 6 and 9 = 54\n",
      "multiplication 6 and 10 = 60\n",
      "multiplication 7 and 0 = 0\n",
      "multiplication 7 and 1 = 7\n",
      "multiplication 7 and 2 = 14\n",
      "multiplication 7 and 3 = 21\n",
      "multiplication 7 and 4 = 28\n",
      "multiplication 7 and 5 = 35\n",
      "multiplication 7 and 6 = 42\n",
      "multiplication 7 and 7 = 49\n",
      "multiplication 7 and 8 = 56\n",
      "multiplication 7 and 9 = 63\n",
      "multiplication 7 and 10 = 70\n",
      "multiplication 8 and 0 = 0\n",
      "multiplication 8 and 1 = 8\n",
      "multiplication 8 and 2 = 16\n",
      "multiplication 8 and 3 = 24\n",
      "multiplication 8 and 4 = 32\n",
      "multiplication 8 and 5 = 40\n",
      "multiplication 8 and 6 = 48\n",
      "multiplication 8 and 7 = 56\n",
      "multiplication 8 and 8 = 64\n",
      "multiplication 8 and 9 = 72\n",
      "multiplication 8 and 10 = 80\n",
      "multiplication 9 and 0 = 0\n",
      "multiplication 9 and 1 = 9\n",
      "multiplication 9 and 2 = 18\n",
      "multiplication 9 and 3 = 27\n",
      "multiplication 9 and 4 = 36\n",
      "multiplication 9 and 5 = 45\n",
      "multiplication 9 and 6 = 54\n",
      "multiplication 9 and 7 = 63\n",
      "multiplication 9 and 8 = 72\n",
      "multiplication 9 and 9 = 81\n",
      "multiplication 9 and 10 = 90\n",
      "multiplication 10 and 0 = 0\n",
      "multiplication 10 and 1 = 10\n",
      "multiplication 10 and 2 = 20\n",
      "multiplication 10 and 3 = 30\n",
      "multiplication 10 and 4 = 40\n",
      "multiplication 10 and 5 = 50\n",
      "multiplication 10 and 6 = 60\n",
      "multiplication 10 and 7 = 70\n",
      "multiplication 10 and 8 = 80\n",
      "multiplication 10 and 9 = 90\n",
      "multiplication 10 and 10 = 100\n"
     ]
    }
   ],
   "source": [
    "for i in range(0, 11):\n",
    "    for j in range(0, 11):\n",
    "        multi = i*j\n",
    "        print(f\"multiplication {i} and {j} = {multi}\")\n"
   ]
  },
  {
   "cell_type": "markdown",
   "id": "7ad02c67",
   "metadata": {},
   "source": [
    "### Задание 2.2: Поиск простых чисел\n",
    "Напишите функцию, которая находит все простые числа от 2 до заданного числа n. Используйте цикл for и проверку делимости."
   ]
  },
  {
   "cell_type": "code",
   "execution_count": null,
   "id": "5685f125",
   "metadata": {},
   "outputs": [
    {
     "ename": "TypeError",
     "evalue": "not all arguments converted during string formatting",
     "output_type": "error",
     "traceback": [
      "\u001b[1;31m---------------------------------------------------------------------------\u001b[0m",
      "\u001b[1;31mTypeError\u001b[0m                                 Traceback (most recent call last)",
      "Cell \u001b[1;32mIn[23], line 11\u001b[0m\n\u001b[0;32m      6\u001b[0m              \u001b[38;5;28;01mreturn\u001b[39;00m \u001b[38;5;124m\"\u001b[39m\u001b[38;5;124mNot prime numbers\u001b[39m\u001b[38;5;124m\"\u001b[39m\n\u001b[0;32m     10\u001b[0m a \u001b[38;5;241m=\u001b[39m \u001b[38;5;28mlist\u001b[39m(\u001b[38;5;28minput\u001b[39m(\u001b[38;5;124m\"\u001b[39m\u001b[38;5;124mEnter prime numbers: \u001b[39m\u001b[38;5;124m\"\u001b[39m))\n\u001b[1;32m---> 11\u001b[0m \u001b[38;5;28mprint\u001b[39m(prime_numbers(a))\n",
      "Cell \u001b[1;32mIn[23], line 3\u001b[0m, in \u001b[0;36mprime_numbers\u001b[1;34m(value)\u001b[0m\n\u001b[0;32m      1\u001b[0m \u001b[38;5;28;01mdef\u001b[39;00m \u001b[38;5;21mprime_numbers\u001b[39m(value):\n\u001b[0;32m      2\u001b[0m     \u001b[38;5;28;01mfor\u001b[39;00m i \u001b[38;5;129;01min\u001b[39;00m \u001b[38;5;28mrange\u001b[39m(\u001b[38;5;28mlen\u001b[39m(value)):\n\u001b[1;32m----> 3\u001b[0m         \u001b[38;5;28;01mif\u001b[39;00m value[i] \u001b[38;5;241m%\u001b[39m \u001b[38;5;241m1\u001b[39m \u001b[38;5;241m==\u001b[39m \u001b[38;5;241m0\u001b[39m \u001b[38;5;129;01mand\u001b[39;00m value[i] \u001b[38;5;241m%\u001b[39m value[i] \u001b[38;5;241m==\u001b[39m \u001b[38;5;241m0\u001b[39m:\n\u001b[0;32m      4\u001b[0m                 \u001b[38;5;28;01mreturn\u001b[39;00m \u001b[38;5;124m\"\u001b[39m\u001b[38;5;124mPrime numbers\u001b[39m\u001b[38;5;124m\"\u001b[39m\n\u001b[0;32m      5\u001b[0m         \u001b[38;5;28;01melse\u001b[39;00m:\n",
      "\u001b[1;31mTypeError\u001b[0m: not all arguments converted during string formatting"
     ]
    }
   ],
   "source": [
    "def prime_numbers(value):\n",
    "    for i in range(0, len(value)):\n",
    "        if value[i] % 1 == 0 and value[i] % value[i] == 0:\n",
    "                return \"Prime numbers\"\n",
    "        else:\n",
    "             return \"Not prime numbers\"\n",
    "        \n",
    "\n",
    "\n",
    "a = list(input(\"Enter prime numbers: \"))\n",
    "print(prime_numbers(a))\n",
    "\n"
   ]
  },
  {
   "cell_type": "markdown",
   "id": "e8ef9553",
   "metadata": {},
   "source": [
    "### Задание 2.3: Игра \"Угадай число\"\n",
    "Создайте игру, где компьютер загадывает случайное число от 1 до 100, а пользователь пытается его угадать. Программа должна:\n",
    "- Генерировать случайное число\n",
    "- Принимать ввод от пользователя\n",
    "- Давать подсказки \"больше\" или \"меньше\"\n",
    "- Считать количество попыток\n",
    "- Использовать цикл while"
   ]
  },
  {
   "cell_type": "code",
   "execution_count": null,
   "id": "5d232380",
   "metadata": {},
   "outputs": [],
   "source": []
  },
  {
   "cell_type": "markdown",
   "id": "7f72e0cc",
   "metadata": {},
   "source": [
    "### Задание 2.4: Анализ текста\n",
    "Напишите программу, которая анализирует текст и выводит:\n",
    "- Количество символов\n",
    "- Количество слов\n",
    "- Количество предложений\n",
    "- Самые частые слова (топ-5)\n",
    "\n",
    "Используйте циклы for для обработки текста."
   ]
  },
  {
   "cell_type": "code",
   "execution_count": null,
   "id": "ff80ada1",
   "metadata": {},
   "outputs": [],
   "source": [
    "\n",
    "def Number_symbols(symbol):\n",
    "    for i in range(0, len(value)):\n",
    "            print()\n",
    "\n",
    "sentence = input(\"Enter sentence: \")\n"
   ]
  },
  {
   "cell_type": "markdown",
   "id": "bb2da6ec",
   "metadata": {},
   "source": [
    "### Задание 3.1: Безопасный калькулятор\n",
    "Создайте калькулятор, который безопасно выполняет арифметические операции:\n",
    "- Принимает два числа и операцию (+, -, *, /)\n",
    "- Обрабатывает деление на ноль\n",
    "- Обрабатывает неверный ввод (не числа)\n",
    "- Обрабатывает неверные операции\n",
    "- Использует try-except-finally блоки"
   ]
  },
  {
   "cell_type": "code",
   "execution_count": null,
   "id": "32e1c8b8",
   "metadata": {},
   "outputs": [],
   "source": []
  }
 ],
 "metadata": {
  "kernelspec": {
   "display_name": "base",
   "language": "python",
   "name": "python3"
  },
  "language_info": {
   "codemirror_mode": {
    "name": "ipython",
    "version": 3
   },
   "file_extension": ".py",
   "mimetype": "text/x-python",
   "name": "python",
   "nbconvert_exporter": "python",
   "pygments_lexer": "ipython3",
   "version": "3.12.4"
  }
 },
 "nbformat": 4,
 "nbformat_minor": 5
}
