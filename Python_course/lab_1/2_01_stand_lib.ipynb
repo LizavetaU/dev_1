{
 "cells": [
  {
   "cell_type": "markdown",
   "id": "62c132d5",
   "metadata": {},
   "source": [
    "### Задание 1: Работа с булевыми значениями\n",
    "\n",
    "Создайте функцию `check_conditions`, которая принимает три булевых параметра и возвращает результат сложной логической операции:\n",
    "\n",
    "- Если все три параметра True, вернуть True\n",
    "- Если ровно два параметра True, вернуть False  \n",
    "- Если ровно один параметр True, вернуть True\n",
    "- Если все параметры False, вернуть False\n",
    "\n",
    "Используйте только логические операторы `and`, `or`, `not`."
   ]
  },
  {
   "cell_type": "code",
   "execution_count": 84,
   "id": "c3a1ea54",
   "metadata": {},
   "outputs": [
    {
     "name": "stdout",
     "output_type": "stream",
     "text": [
      "True\n"
     ]
    }
   ],
   "source": [
    "def check_conditions(a: bool, b: bool, c: bool) ->bool:\n",
    "    if a and b and c:\n",
    "        return True\n",
    "    if (a and b and not c) or (a and c and not b) or (b and c and not a):\n",
    "        return False\n",
    "    if (a  and not b and not c) or (not a and b and not c) or (not a and not b and c):\n",
    "        return True\n",
    "    if  not a and not b and not c:\n",
    "        return False\n",
    "    \n",
    "print(check_conditions(a = True, b = False, c = False))\n"
   ]
  },
  {
   "cell_type": "markdown",
   "id": "edfbc549",
   "metadata": {},
   "source": [
    "### Задание 2: Работа с числовыми типами\n",
    "\n",
    "Создайте функцию `calculate_quadratic_roots`, которая вычисляет корни квадратного уравнения ax² + bx + c = 0.\n",
    "\n",
    "Функция должна:\n",
    "- Принимать коэффициенты a, b, c как float\n",
    "- Возвращать кортеж с корнями уравнения\n",
    "- Обрабатывать случаи когда дискриминант отрицательный (возвращать None)\n",
    "- Использовать комплексные числа для отрицательного дискриминанта\n",
    "- Включать проверки входных данных"
   ]
  },
  {
   "cell_type": "code",
   "execution_count": 82,
   "id": "1fb80eeb",
   "metadata": {},
   "outputs": [
    {
     "name": "stdout",
     "output_type": "stream",
     "text": [
      "((6+2.8284271247461903j), (6-2.8284271247461903j))\n"
     ]
    }
   ],
   "source": [
    "import math\n",
    "def calculate_quadratic_roots(a: float, b: float, c: float) ->list:        \n",
    "    discrim = b**2 - 4*a*c\n",
    "        \n",
    "    if a == 0:\n",
    "        if b == 0:\n",
    "            if c == 0:\n",
    "                print(\"An infinite number of solutions\")\n",
    "            else:\n",
    "                return None \n",
    "        return -c/b\n",
    "    \n",
    "    elif discrim > 0:\n",
    "        x1 = (- b + pow(discrim, 1/2))/ (2*a)\n",
    "        x2 = (- b - pow(discrim, 1/2))/ (2*a)\n",
    "        return (x1, x2)\n",
    "        \n",
    "    elif discrim == 0: \n",
    "        return - b/ 2*a\n",
    "    \n",
    "    else: \n",
    "        x1 = complex(- b/ 2*a, pow(-discrim, 1/2))\n",
    "        x2 = complex(- b/ 2*a, -pow(-discrim, 1/2))\n",
    "        return (x1, x2)\n",
    "        \n",
    "print(calculate_quadratic_roots(3, -4, 2))"
   ]
  },
  {
   "cell_type": "markdown",
   "id": "7cf690fd",
   "metadata": {},
   "source": [
    "### Задание 3: Работа со списками и кортежами\n",
    "\n",
    "Создайте функцию `analyze_sequence`, которая анализирует последовательность чисел и возвращает статистику в виде именованного кортежа.\n",
    "\n",
    "Функция должна:\n",
    "- Принимать список чисел (int или float)\n",
    "- Вычислять: сумму, среднее, минимум, максимум, Number of elements\n",
    "- Возвращать результат как именованный кортеж\n",
    "- Обрабатывать пустой список (возвращать None)\n",
    "- Использовать только встроенные функции Python"
   ]
  },
  {
   "cell_type": "code",
   "execution_count": 78,
   "id": "848a2af0",
   "metadata": {},
   "outputs": [
    {
     "name": "stdout",
     "output_type": "stream",
     "text": [
      "(10, 3.3333333333333335, 5, 1, 3)\n"
     ]
    }
   ],
   "source": [
    "def analyze_sequence(my_list: list) ->tuple:\n",
    "    if len(my_list) == 0:\n",
    "        return None\n",
    "    else:\n",
    "        return sum_func(my_list), average_func(my_list),  max_func(my_list), min_func(my_list), number_of_elements(my_list)\n",
    "    \n",
    "# def sum_func(my_list: list):\n",
    "#     i = 0\n",
    "#     list_sum = 0\n",
    "#     while i < len(my_list):\n",
    "#         list_sum += my_list[i]\n",
    "#         i += 1\n",
    "#     return list_sum\n",
    "        \n",
    "def sum_func(my_list: list):\n",
    "    return sum(my_list)\n",
    "\n",
    "def number_of_elements(my_list: list):\n",
    "    return len(my_list)\n",
    "\n",
    "def average_func(my_list: list):\n",
    "    aver = sum_func(my_list)/ number_of_elements(my_list)\n",
    "    return aver\n",
    "                                                 \n",
    "\n",
    "def max_func(my_list: list):\n",
    "    return max(my_list)\n",
    "\n",
    "def min_func(my_list: list):\n",
    "    return min(my_list)\n",
    "\n",
    "\n",
    "a = [1, 4, 5]\n",
    "print(analyze_sequence(a))"
   ]
  },
  {
   "cell_type": "markdown",
   "id": "d7d039d6",
   "metadata": {},
   "source": [
    "### Задание 4: Работа со строками\n",
    "\n",
    "Создайте функцию `format_person_info`, которая форматирует информацию о человеке в красивую строку.\n",
    "\n",
    "Функция должна:\n",
    "- Принимать имя, возраст, профессию и зарплату\n",
    "- Форматировать строку с выравниванием и ограничением точности для зарплаты\n",
    "- Обрабатывать случаи когда данные могут быть None\n",
    "- Возвращать отформатированную строку"
   ]
  },
  {
   "cell_type": "code",
   "execution_count": null,
   "id": "4522c98f",
   "metadata": {},
   "outputs": [
    {
     "name": "stdout",
     "output_type": "stream",
     "text": [
      "<class 'NoneType'>\n",
      "Name       Иван\n",
      "age:       30\n",
      "profession: Инженер\n",
      "salary:    100000.56\n"
     ]
    }
   ],
   "source": [
    "def format_person_info(name:str , age:int , profession:str , salary:float) ->str:\n",
    "    if name is None:\n",
    "        return None\n",
    "    if age is None:\n",
    "        return None\n",
    "    if profession is None: \n",
    "        return None\n",
    "    if salary is None: \n",
    "        return None\n",
    "    salary_limit = round(salary, 2)\n",
    "    a = f\"{'Name':<10} {name}\\n{'age:':<10} {age}\\n{'profession:':<10} {profession}\\n{'salary:':<10} {salary_limit}\"\n",
    "    return a\n",
    "\n",
    "print(format_person_info(name= \"Иван\", age= 30, profession=\"Инженер\", salary=100000.558975))"
   ]
  },
  {
   "cell_type": "markdown",
   "id": "f6a1a2b7",
   "metadata": {},
   "source": [
    "### Задание 5: Комплексная задача\n",
    "\n",
    "Создайте функцию `process_data`, которая обрабатывает список строк с данными о студентах и возвращает статистику.\n",
    "\n",
    "Каждая строка имеет формат: \"Имя,Возраст,Оценка1,Оценка2,Оценка3\"\n",
    "\n",
    "Функция должна:\n",
    "- Парсить строки и извлекать данные\n",
    "- Вычислять среднюю оценку для каждого студента\n",
    "- Находить лучшего и худшего студента по средней оценке\n",
    "- Возвращать результат в виде словаря с ключами: 'best_student', 'worst_student', 'average_grade'\n",
    "- Обрабатывать ошибки парсинга (пропускать некорректные строки)"
   ]
  },
  {
   "cell_type": "code",
   "execution_count": 12,
   "id": "8d324c06",
   "metadata": {},
   "outputs": [
    {
     "name": "stdout",
     "output_type": "stream",
     "text": [
      "{'best_student': 'Анна Смирнова (10.0)', 'worst_student': 'Петр Сидоров (5.8)', 'average_grade': 8.2}\n"
     ]
    }
   ],
   "source": [
    "def process_data(students_data) -> dict:\n",
    "    students = []\n",
    "    \n",
    "    for line in students_data:\n",
    "        try:\n",
    "            if not line.strip():\n",
    "                continue\n",
    "            parts = line.split(',')\n",
    "\n",
    "            if len(parts) < 3:\n",
    "                continue\n",
    "\n",
    "            name = parts[0].strip()\n",
    "            age = int(parts[1].strip()) \n",
    "            grades_str = parts[2:]      \n",
    "\n",
    "            grades = []\n",
    "            for grade_str in grades_str:\n",
    "                grade = float(grade_str.strip())\n",
    "                grades.append(grade)\n",
    "            \n",
    "            avg_grade = sum(grades) / len(grades)\n",
    "            students.append((name, avg_grade))\n",
    "            \n",
    "        except (ValueError, IndexError):\n",
    "            continue\n",
    "\n",
    "    if not students:\n",
    "        return {\n",
    "            'best_student': 'Нет данных',\n",
    "            'worst_student': 'Нет данных',\n",
    "            'average_grade': 0\n",
    "        }\n",
    "    \n",
    "    best_student = max(students, key=lambda x: x[1])\n",
    "    worst_student = min(students, key=lambda x: x[1])\n",
    "    \n",
    "\n",
    "    total_avg = sum(avg for _, avg in students) / len(students)\n",
    "    \n",
    "    return {\n",
    "        'best_student': f\"{best_student[0]} ({best_student[1]:.1f})\",\n",
    "        'worst_student': f\"{worst_student[0]} ({worst_student[1]:.1f})\",\n",
    "        'average_grade': round(total_avg, 1)\n",
    "    }\n",
    "\n",
    "test_data = [\n",
    "    \"Иван Иванов,20,8,9,7,8,9\",\n",
    "    \"Мария Петрова,21,9,10,9,10,9\",\n",
    "    \"Петр Сидоров,19,6,5,7,6,5\",\n",
    "    \"Некорректная строка\",\n",
    "    \"Анна Смирнова,22,10,10,10,10,10\",\n",
    "    \"Еще одна,некорректная\",\n",
    "    \"Ольга Козлова,20,7,8,9,8,7\"\n",
    "]\n",
    "\n",
    "result = process_data(test_data)\n",
    "print(result)"
   ]
  },
  {
   "cell_type": "code",
   "execution_count": null,
   "id": "9f07e425",
   "metadata": {},
   "outputs": [],
   "source": []
  }
 ],
 "metadata": {
  "kernelspec": {
   "display_name": "base",
   "language": "python",
   "name": "python3"
  },
  "language_info": {
   "codemirror_mode": {
    "name": "ipython",
    "version": 3
   },
   "file_extension": ".py",
   "mimetype": "text/x-python",
   "name": "python",
   "nbconvert_exporter": "python",
   "pygments_lexer": "ipython3",
   "version": "3.12.4"
  }
 },
 "nbformat": 4,
 "nbformat_minor": 5
}
